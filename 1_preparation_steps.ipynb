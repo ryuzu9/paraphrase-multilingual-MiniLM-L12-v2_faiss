{
 "cells": [
  {
   "cell_type": "markdown",
   "id": "df4ee110-e90f-49cb-81d1-0ab134e2d3d4",
   "metadata": {},
   "source": [
    "## ✫Livedoorテキストを使用するための準備（テキストの成形と各辞書の作成）"
   ]
  },
  {
   "cell_type": "markdown",
   "id": "2b525a87-8e7c-4e34-aaa0-b55e9d4605fe",
   "metadata": {},
   "source": [
    "### 1. Livedoorテキストの読み込み"
   ]
  },
  {
   "cell_type": "code",
   "execution_count": 1,
   "id": "9681eaa7-85f6-4c98-84c8-7c9b8e537c3e",
   "metadata": {},
   "outputs": [],
   "source": [
    "# # Livedoorニュースのファイルをダウンロード\n",
    "# ! wget \"https://www.rondhuit.com/download/ldcc-20140209.tar.gz\""
   ]
  },
  {
   "cell_type": "code",
   "execution_count": 2,
   "id": "aae903fa-384a-4f96-a0df-cc2a73bf5e61",
   "metadata": {},
   "outputs": [
    {
     "name": "stdout",
     "output_type": "stream",
     "text": [
      "['CHANGES.txt', 'livedoor-homme', 'README.txt', 'sports-watch', 'dokujo-tsushin', 'movie-enter', 'topic-news', 'it-life-hack', 'peachy', 'kaden-channel', 'smax']\n",
      "カテゴリー数: 9\n",
      "['livedoor-homme', 'sports-watch', 'dokujo-tsushin', 'movie-enter', 'topic-news', 'it-life-hack', 'peachy', 'kaden-channel', 'smax']\n"
     ]
    }
   ],
   "source": [
    "# ファイルを解凍し、カテゴリー数と内容を確認\n",
    "import tarfile\n",
    "import os\n",
    "\n",
    "# アーカイブの展開\n",
    "tar = tarfile.open(\"ldcc-20140209.tar.gz\", \"r:gz\")\n",
    "tar.extractall(\"./data/livedoor/\")\n",
    "tar.close()\n",
    "\n",
    "# フォルダのファイルとディレクトリを確認\n",
    "files_folders = [name for name in os.listdir(\"./data/livedoor/text/\")]\n",
    "print(files_folders)\n",
    "\n",
    "# カテゴリーのフォルダのみを抽出\n",
    "categories = [name for name in os.listdir(\n",
    "    \"./data/livedoor/text/\") if os.path.isdir(\"./data/livedoor/text/\"+name)]\n",
    "\n",
    "print(\"カテゴリー数:\", len(categories))\n",
    "print(categories)\n",
    "\n",
    "# ['CHANGES.txt', 'dokujo-tsushin', 'it-life-hack', 'kaden-channel', 'livedoor-homme', 'movie-enter', 'peachy', 'README.txt', 'smax', 'sports-watch', 'topic-news']\n",
    "# カテゴリー数: 9\n",
    "# ['dokujo-tsushin', 'it-life-hack', 'kaden-channel', 'livedoor-homme', 'movie-enter', 'peachy', 'smax', 'sports-watch', 'topic-news']"
   ]
  },
  {
   "cell_type": "code",
   "execution_count": 3,
   "id": "307e59be-58d5-4d69-9be4-0c6935601fa7",
   "metadata": {},
   "outputs": [
    {
     "name": "stdout",
     "output_type": "stream",
     "text": [
      "0： http://news.livedoor.com/article/detail/6255260/\n",
      "\n",
      "1： 2012-02-07T09:00:00+0900\n",
      "\n",
      "2： 新しいヴァンパイアが誕生！　ジョニデ主演『ダーク・シャドウ』の公開日が決定\n",
      "\n",
      "3： 　こんなヴァンパイアは見たことがない！　ジョニー・デップとティム・バートン監督がタッグを組んだ映画『ダーク・シャドウズ（原題）』の邦題が『ダーク・シャドウ』に決定。日本公開日が5月19日に決まった。さらに、ジョニー・デップ演じるヴァンパイアの写真が公開された。\n",
      "\n"
     ]
    }
   ],
   "source": [
    "# ファイルの中身を確認してみる\n",
    "file_name = \"./data/livedoor/text/movie-enter/movie-enter-6255260.txt\"\n",
    "\n",
    "with open(file_name) as text_file:\n",
    "    text = text_file.readlines()\n",
    "    print(\"0：\", text[0])  # URL情報\n",
    "    print(\"1：\", text[1])  # タイムスタンプ\n",
    "    print(\"2：\", text[2])  # タイトル\n",
    "    print(\"3：\", text[3])  # 本文"
   ]
  },
  {
   "cell_type": "code",
   "execution_count": 4,
   "id": "549da2b8-e261-4c5e-ae8f-6ceb0ddda50c",
   "metadata": {},
   "outputs": [],
   "source": [
    "# テキスト本文のみを取りだすための関数\n",
    "def extract_main_txt(file_name):\n",
    "    with open(file_name) as text_file:\n",
    "        # 今回はタイトル行は外したいので、3要素目以降の本文のみ使用\n",
    "        text = text_file.readlines()[3:]\n",
    "\n",
    "        # 3要素目以降にも本文が入っている場合があるので、リストにして、後で結合させる\n",
    "        text = [sentence.strip() for sentence in text]  # 空白文字(スペースやタブ、改行)の削除\n",
    "        text = list(filter(lambda line: line != '', text))\n",
    "        text = ''.join(text)\n",
    "        text = text.translate(str.maketrans(\n",
    "            {'\\n': '', '\\t': '', '\\r': '', '\\u3000': ''}))  # 改行やタブ、全角スペースを消す\n",
    "        return text"
   ]
  },
  {
   "cell_type": "code",
   "execution_count": 5,
   "id": "e4190437-cf6a-405f-86e7-96d56a826048",
   "metadata": {},
   "outputs": [],
   "source": [
    "# リストに前処理した本文と、カテゴリーのラベルを追加していく\n",
    "import glob\n",
    "\n",
    "list_text = []\n",
    "list_label = []\n",
    "\n",
    "for cat in categories:\n",
    "    text_files = glob.glob(os.path.join(\"./data/livedoor/text\", cat, \"*.txt\"))\n",
    "\n",
    "    # 前処理extract_main_txtを実施して本文を取得\n",
    "    body = [extract_main_txt(text_file) for text_file in text_files]\n",
    "\n",
    "    label = [cat] * len(body)  # bodyの数文だけカテゴリー名のラベルのリストを作成\n",
    "\n",
    "    list_text.extend(body)  # appendが要素を追加するのに対して、extendはリストごと追加する\n",
    "    list_label.extend(label)"
   ]
  },
  {
   "cell_type": "code",
   "execution_count": 6,
   "id": "1e85cbdc-3ed8-49dc-96f9-5119db42fd4b",
   "metadata": {},
   "outputs": [
    {
     "name": "stdout",
     "output_type": "stream",
     "text": [
      "イタリアのプレミアム・カジュアル・ブランド「DIESEL（ディーゼル）」は2月27日、28日の2日間、「0円」でTシャツを販売するゲリラストア「BE STUPID STORE」を原宿に限定オープンする。DIESELは、1991年から、斬新なテーマと強烈なビジュアルでメッセージ性の強い広告キャンペーンを展開している。2010年春夏シーズンのスローガンは「BE STUPID」。DIESELのスピリットであるポジティブな反骨精神が映し出されている言葉だ。「自分らしく生きること。失敗を恐れず、何度でも挑戦すること。そこにチャンスはやってくる」。ブランドのアイデンティティであるチャレンジ精神を伝えるために、DIESELは数々のフレーズとともに、このキャンペーンをさまざまな場面で展開していく。大人はNOと言う。僕らはYESと言う。大人は頭で考える。僕らは心で動く。大人には知恵がある。僕らには度胸がある。大人にはプランがある。僕らにはストーリーがある。僕らにしか分からない素晴らしさがある。BE STUPID.「BE STUPID STORE」では、このチャレンジ精神に賛同する人に、枚数限定のTシャツを0円で提供する。もし当日にTシャツを手に入れることが出来なくても、DIESELの公式サイトで、会員限定の特別待ち受け画像をダウンロードし、通常店舗で提示すれば、Tシャツをゲットすることが可能だ。■関連リンク・DIESEL - 公式サイト■店舗情報BE STUPID STORE東京都渋谷区神宮前4-31-16営業時間：12:00〜19:00※2月27日(土)、28日(日) 2日間限り\n",
      "livedoor-homme\n"
     ]
    }
   ],
   "source": [
    "# 10番目の文章とラベルを確認\n",
    "print(list_text[10])\n",
    "print(list_label[10])"
   ]
  },
  {
   "cell_type": "code",
   "execution_count": 7,
   "id": "e1881b02-86ed-48eb-a95e-8ce0dc0aba12",
   "metadata": {},
   "outputs": [
    {
     "name": "stdout",
     "output_type": "stream",
     "text": [
      "(7376, 2)\n"
     ]
    },
    {
     "data": {
      "text/html": [
       "<div>\n",
       "<style scoped>\n",
       "    .dataframe tbody tr th:only-of-type {\n",
       "        vertical-align: middle;\n",
       "    }\n",
       "\n",
       "    .dataframe tbody tr th {\n",
       "        vertical-align: top;\n",
       "    }\n",
       "\n",
       "    .dataframe thead th {\n",
       "        text-align: right;\n",
       "    }\n",
       "</style>\n",
       "<table border=\"1\" class=\"dataframe\">\n",
       "  <thead>\n",
       "    <tr style=\"text-align: right;\">\n",
       "      <th></th>\n",
       "      <th>text</th>\n",
       "      <th>label</th>\n",
       "    </tr>\n",
       "  </thead>\n",
       "  <tbody>\n",
       "    <tr>\n",
       "      <th>0</th>\n",
       "      <td>自由に転載・引用が可能です。このディレクトリの記事ファイル内容の提供元：livedoor H...</td>\n",
       "      <td>livedoor-homme</td>\n",
       "    </tr>\n",
       "    <tr>\n",
       "      <th>1</th>\n",
       "      <td>米国ロサンゼルス発のファストファッションチェーン「フォーエバー２１」（本社：米国ロサンゼルス...</td>\n",
       "      <td>livedoor-homme</td>\n",
       "    </tr>\n",
       "    <tr>\n",
       "      <th>2</th>\n",
       "      <td>ファストファッションチェーン「フォーエバー２１」（本社：米国ロサンゼルス）は２日、日本直営１...</td>\n",
       "      <td>livedoor-homme</td>\n",
       "    </tr>\n",
       "  </tbody>\n",
       "</table>\n",
       "</div>"
      ],
      "text/plain": [
       "                                                text           label\n",
       "0  自由に転載・引用が可能です。このディレクトリの記事ファイル内容の提供元：livedoor H...  livedoor-homme\n",
       "1  米国ロサンゼルス発のファストファッションチェーン「フォーエバー２１」（本社：米国ロサンゼルス...  livedoor-homme\n",
       "2  ファストファッションチェーン「フォーエバー２１」（本社：米国ロサンゼルス）は２日、日本直営１...  livedoor-homme"
      ]
     },
     "execution_count": 7,
     "metadata": {},
     "output_type": "execute_result"
    }
   ],
   "source": [
    "# pandasのDataFrameに変換する\n",
    "import pandas as pd\n",
    "\n",
    "df = pd.DataFrame({'text': list_text, 'label': list_label})\n",
    "\n",
    "# 大きさを確認しておく（7,376文章が存在）\n",
    "print(df.shape)\n",
    "# (7376, 2)\n",
    "\n",
    "df.head(3)"
   ]
  },
  {
   "cell_type": "code",
   "execution_count": 8,
   "id": "035985da-ae2d-4ead-93cc-341878d52467",
   "metadata": {},
   "outputs": [
    {
     "name": "stdout",
     "output_type": "stream",
     "text": [
      "{0: 'livedoor-homme', 1: 'sports-watch', 2: 'dokujo-tsushin', 3: 'movie-enter', 4: 'topic-news', 5: 'it-life-hack', 6: 'peachy', 7: 'kaden-channel', 8: 'smax'}\n",
      "{'livedoor-homme': 0, 'sports-watch': 1, 'dokujo-tsushin': 2, 'movie-enter': 3, 'topic-news': 4, 'it-life-hack': 5, 'peachy': 6, 'kaden-channel': 7, 'smax': 8}\n"
     ]
    },
    {
     "data": {
      "text/html": [
       "<div>\n",
       "<style scoped>\n",
       "    .dataframe tbody tr th:only-of-type {\n",
       "        vertical-align: middle;\n",
       "    }\n",
       "\n",
       "    .dataframe tbody tr th {\n",
       "        vertical-align: top;\n",
       "    }\n",
       "\n",
       "    .dataframe thead th {\n",
       "        text-align: right;\n",
       "    }\n",
       "</style>\n",
       "<table border=\"1\" class=\"dataframe\">\n",
       "  <thead>\n",
       "    <tr style=\"text-align: right;\">\n",
       "      <th></th>\n",
       "      <th>text</th>\n",
       "      <th>label_index</th>\n",
       "    </tr>\n",
       "  </thead>\n",
       "  <tbody>\n",
       "    <tr>\n",
       "      <th>0</th>\n",
       "      <td>自由に転載・引用が可能です。このディレクトリの記事ファイル内容の提供元：livedoor H...</td>\n",
       "      <td>0</td>\n",
       "    </tr>\n",
       "    <tr>\n",
       "      <th>1</th>\n",
       "      <td>米国ロサンゼルス発のファストファッションチェーン「フォーエバー２１」（本社：米国ロサンゼルス...</td>\n",
       "      <td>0</td>\n",
       "    </tr>\n",
       "    <tr>\n",
       "      <th>2</th>\n",
       "      <td>ファストファッションチェーン「フォーエバー２１」（本社：米国ロサンゼルス）は２日、日本直営１...</td>\n",
       "      <td>0</td>\n",
       "    </tr>\n",
       "  </tbody>\n",
       "</table>\n",
       "</div>"
      ],
      "text/plain": [
       "                                                text  label_index\n",
       "0  自由に転載・引用が可能です。このディレクトリの記事ファイル内容の提供元：livedoor H...            0\n",
       "1  米国ロサンゼルス発のファストファッションチェーン「フォーエバー２１」（本社：米国ロサンゼルス...            0\n",
       "2  ファストファッションチェーン「フォーエバー２１」（本社：米国ロサンゼルス）は２日、日本直営１...            0"
      ]
     },
     "execution_count": 8,
     "metadata": {},
     "output_type": "execute_result"
    }
   ],
   "source": [
    "# カテゴリーの辞書を作成\n",
    "dic_id2cat = dict(zip(list(range(len(categories))), categories))\n",
    "dic_cat2id = dict(zip(categories, list(range(len(categories)))))\n",
    "\n",
    "print(dic_id2cat)\n",
    "print(dic_cat2id)\n",
    "\n",
    "# DataFrameにカテゴリーindexの列を作成\n",
    "df[\"label_index\"] = df[\"label\"].map(dic_cat2id)\n",
    "df.head()\n",
    "\n",
    "# label列を消去し、text, indexの順番にする\n",
    "df = df.loc[:, [\"text\", \"label_index\"]]\n",
    "df.head(3)"
   ]
  },
  {
   "cell_type": "code",
   "execution_count": 9,
   "id": "09f11322-d3f5-4ee5-9a26-8924907a6392",
   "metadata": {},
   "outputs": [
    {
     "data": {
      "text/html": [
       "<div>\n",
       "<style scoped>\n",
       "    .dataframe tbody tr th:only-of-type {\n",
       "        vertical-align: middle;\n",
       "    }\n",
       "\n",
       "    .dataframe tbody tr th {\n",
       "        vertical-align: top;\n",
       "    }\n",
       "\n",
       "    .dataframe thead th {\n",
       "        text-align: right;\n",
       "    }\n",
       "</style>\n",
       "<table border=\"1\" class=\"dataframe\">\n",
       "  <thead>\n",
       "    <tr style=\"text-align: right;\">\n",
       "      <th></th>\n",
       "      <th>text</th>\n",
       "      <th>label_index</th>\n",
       "    </tr>\n",
       "  </thead>\n",
       "  <tbody>\n",
       "    <tr>\n",
       "      <th>0</th>\n",
       "      <td>シリーズとして初のオンライン対応となった「ドラゴンクエストX」（スクェア・エニックス）。20...</td>\n",
       "      <td>5</td>\n",
       "    </tr>\n",
       "    <tr>\n",
       "      <th>1</th>\n",
       "      <td>豚キムチ鍋に火鍋、豚しゃぶ、寄せ鍋など、鍋に豚肉は欠かせない存在。その豚肉を鍋の主役に相応し...</td>\n",
       "      <td>6</td>\n",
       "    </tr>\n",
       "    <tr>\n",
       "      <th>2</th>\n",
       "      <td>帝国軍が全国に進軍。ダース・ベイダー、ストームトルーパーが日本の各都市に現れる事態が起こって...</td>\n",
       "      <td>3</td>\n",
       "    </tr>\n",
       "  </tbody>\n",
       "</table>\n",
       "</div>"
      ],
      "text/plain": [
       "                                                text  label_index\n",
       "0  シリーズとして初のオンライン対応となった「ドラゴンクエストX」（スクェア・エニックス）。20...            5\n",
       "1  豚キムチ鍋に火鍋、豚しゃぶ、寄せ鍋など、鍋に豚肉は欠かせない存在。その豚肉を鍋の主役に相応し...            6\n",
       "2  帝国軍が全国に進軍。ダース・ベイダー、ストームトルーパーが日本の各都市に現れる事態が起こって...            3"
      ]
     },
     "execution_count": 9,
     "metadata": {},
     "output_type": "execute_result"
    }
   ],
   "source": [
    "# 順番をシャッフルする\n",
    "df = df.sample(frac=1, random_state=123).reset_index(drop=True)\n",
    "df.head(3)"
   ]
  },
  {
   "cell_type": "code",
   "execution_count": 10,
   "id": "3bc5253e-59ba-476f-b1e8-35af85e3e5cc",
   "metadata": {},
   "outputs": [
    {
     "data": {
      "text/plain": [
       "text           500\n",
       "label_index    500\n",
       "dtype: int64"
      ]
     },
     "execution_count": 10,
     "metadata": {},
     "output_type": "execute_result"
    }
   ],
   "source": [
    "# # 件数が多いので500件のサンプルを取得\n",
    "df = df.sample(500)\n",
    "df.count()"
   ]
  },
  {
   "cell_type": "markdown",
   "id": "ec87bb74-b6dd-45d0-8c90-ed88bc587ce1",
   "metadata": {},
   "source": [
    "### 2. Triplet Lossの処理をするための準備"
   ]
  },
  {
   "cell_type": "code",
   "execution_count": 11,
   "id": "57dd8b23-1d1f-4171-8e72-db4df5a35cbe",
   "metadata": {},
   "outputs": [],
   "source": [
    "# Series処理で読み込まれたラベルとDataframeのラベルを比較して同じもの（positive）を検索、サンプルとして１行だけ取り出す\n",
    "def func(x):\n",
    "    return df[['text']][df['label_index'] == x['label_index']].sample(1).iloc[0]"
   ]
  },
  {
   "cell_type": "code",
   "execution_count": 12,
   "id": "59f21db1-2a1d-48d1-a901-075770fa9b1c",
   "metadata": {},
   "outputs": [],
   "source": [
    "df = df.assign(positive = lambda x: x.apply(func, axis=1))"
   ]
  },
  {
   "cell_type": "code",
   "execution_count": 13,
   "id": "3b8b4de3-8824-4ad6-8b5d-b8b447a05f09",
   "metadata": {},
   "outputs": [],
   "source": [
    "def func(x):\n",
    "    return df[['label_index']][df['label_index'] == x['label_index']].sample(1).iloc[0]"
   ]
  },
  {
   "cell_type": "code",
   "execution_count": 14,
   "id": "a27d7f5d-3103-40a4-8e90-9bd9b8bbb067",
   "metadata": {},
   "outputs": [],
   "source": [
    "df = df.assign(positive_index = lambda x: x.apply(func, axis=1))"
   ]
  },
  {
   "cell_type": "code",
   "execution_count": 15,
   "id": "3acf29a2-400c-4abf-a63c-e9fdc853ab76",
   "metadata": {},
   "outputs": [],
   "source": [
    "# Series処理で読み込まれたラベルとDataframeのラベルを比較して異なるもの（negative）を検索、サンプルとして１行だけ取り出す\n",
    "def func(x):\n",
    "    return df[['text']][df['label_index'] != x['label_index']].sample(1).iloc[0]"
   ]
  },
  {
   "cell_type": "code",
   "execution_count": 16,
   "id": "8666193a-c29e-4112-a996-dc88b64a9040",
   "metadata": {},
   "outputs": [],
   "source": [
    "df = df.assign(negative = lambda x: x.apply(func, axis=1))"
   ]
  },
  {
   "cell_type": "code",
   "execution_count": 17,
   "id": "6f6afe52-926a-48ae-907e-244beab09c28",
   "metadata": {},
   "outputs": [],
   "source": [
    "def func(x):\n",
    "    return df[['label_index']][df['label_index'] != x['label_index']].sample(1).iloc[0]"
   ]
  },
  {
   "cell_type": "code",
   "execution_count": 18,
   "id": "95bb1102-63f2-406e-9f2e-bc4e487838a9",
   "metadata": {},
   "outputs": [],
   "source": [
    "df = df.assign(negative_index = lambda x: x.apply(func, axis=1))"
   ]
  },
  {
   "cell_type": "code",
   "execution_count": 19,
   "id": "3071d77d-0965-4957-a2ea-96ddb44138f4",
   "metadata": {},
   "outputs": [
    {
     "data": {
      "text/html": [
       "<div>\n",
       "<style scoped>\n",
       "    .dataframe tbody tr th:only-of-type {\n",
       "        vertical-align: middle;\n",
       "    }\n",
       "\n",
       "    .dataframe tbody tr th {\n",
       "        vertical-align: top;\n",
       "    }\n",
       "\n",
       "    .dataframe thead th {\n",
       "        text-align: right;\n",
       "    }\n",
       "</style>\n",
       "<table border=\"1\" class=\"dataframe\">\n",
       "  <thead>\n",
       "    <tr style=\"text-align: right;\">\n",
       "      <th></th>\n",
       "      <th>text</th>\n",
       "      <th>label_index</th>\n",
       "      <th>positive</th>\n",
       "      <th>positive_index</th>\n",
       "      <th>negative</th>\n",
       "      <th>negative_index</th>\n",
       "    </tr>\n",
       "  </thead>\n",
       "  <tbody>\n",
       "    <tr>\n",
       "      <th>1904</th>\n",
       "      <td>全世界興収4億ドルを記録した映画の続編「セックス・アンド・ザ・シティ2」。6月には、サラ・ジ...</td>\n",
       "      <td>6</td>\n",
       "      <td>2002年の誕生から、今回で16回目となる「神戸コレクション2010 AUTMN/SUMME...</td>\n",
       "      <td>6</td>\n",
       "      <td>「体の不調が出やすくなる年齢だけに、同世代の友人に悩みを赤裸々に語ることはあります。だけど、...</td>\n",
       "      <td>4</td>\n",
       "    </tr>\n",
       "    <tr>\n",
       "      <th>2633</th>\n",
       "      <td>70種類の豊富なフォントや個性豊かな飾りイラストでカスタマイズしよう！Androidのホーム...</td>\n",
       "      <td>8</td>\n",
       "      <td>ドタキャンの言い訳、どうしよう？楽しみにしていた食事やデートなどの予定を体調不良や急な用事で...</td>\n",
       "      <td>8</td>\n",
       "      <td>こんにちは、ビデオエディターを目指している小島暢華です。さて今回は天体写真に挑戦してみました...</td>\n",
       "      <td>4</td>\n",
       "    </tr>\n",
       "    <tr>\n",
       "      <th>3107</th>\n",
       "      <td>ソフトバンクモバイルから発売されたDesire（X06HT)は、OS2.1を搭載し、Andr...</td>\n",
       "      <td>0</td>\n",
       "      <td>2009年、パナソニック・トヨタ・レーシングのサードドライバーとして、10月に行われた第16...</td>\n",
       "      <td>0</td>\n",
       "      <td>CM・ドラマ・映画・ティーン誌のモデルなど、あらゆるメディアで類まれなる才能を発揮し、今最も...</td>\n",
       "      <td>7</td>\n",
       "    </tr>\n",
       "  </tbody>\n",
       "</table>\n",
       "</div>"
      ],
      "text/plain": [
       "                                                   text  label_index  \\\n",
       "1904  全世界興収4億ドルを記録した映画の続編「セックス・アンド・ザ・シティ2」。6月には、サラ・ジ...            6   \n",
       "2633  70種類の豊富なフォントや個性豊かな飾りイラストでカスタマイズしよう！Androidのホーム...            8   \n",
       "3107  ソフトバンクモバイルから発売されたDesire（X06HT)は、OS2.1を搭載し、Andr...            0   \n",
       "\n",
       "                                               positive  positive_index  \\\n",
       "1904  2002年の誕生から、今回で16回目となる「神戸コレクション2010 AUTMN/SUMME...               6   \n",
       "2633  ドタキャンの言い訳、どうしよう？楽しみにしていた食事やデートなどの予定を体調不良や急な用事で...               8   \n",
       "3107  2009年、パナソニック・トヨタ・レーシングのサードドライバーとして、10月に行われた第16...               0   \n",
       "\n",
       "                                               negative  negative_index  \n",
       "1904  「体の不調が出やすくなる年齢だけに、同世代の友人に悩みを赤裸々に語ることはあります。だけど、...               4  \n",
       "2633  こんにちは、ビデオエディターを目指している小島暢華です。さて今回は天体写真に挑戦してみました...               4  \n",
       "3107  CM・ドラマ・映画・ティーン誌のモデルなど、あらゆるメディアで類まれなる才能を発揮し、今最も...               7  "
      ]
     },
     "execution_count": 19,
     "metadata": {},
     "output_type": "execute_result"
    }
   ],
   "source": [
    "df.head(3)"
   ]
  },
  {
   "cell_type": "code",
   "execution_count": 20,
   "id": "b99a0935-a9db-4f7d-b183-d500674b805d",
   "metadata": {},
   "outputs": [],
   "source": [
    "# 不要な列の削除\n",
    "df = df.drop(['label_index', 'positive_index', 'negative_index'], axis=1)"
   ]
  },
  {
   "cell_type": "code",
   "execution_count": 21,
   "id": "e1bde436-9e15-49de-abde-8835f3aea13b",
   "metadata": {},
   "outputs": [
    {
     "data": {
      "text/html": [
       "<div>\n",
       "<style scoped>\n",
       "    .dataframe tbody tr th:only-of-type {\n",
       "        vertical-align: middle;\n",
       "    }\n",
       "\n",
       "    .dataframe tbody tr th {\n",
       "        vertical-align: top;\n",
       "    }\n",
       "\n",
       "    .dataframe thead th {\n",
       "        text-align: right;\n",
       "    }\n",
       "</style>\n",
       "<table border=\"1\" class=\"dataframe\">\n",
       "  <thead>\n",
       "    <tr style=\"text-align: right;\">\n",
       "      <th></th>\n",
       "      <th>text</th>\n",
       "      <th>positive</th>\n",
       "      <th>negative</th>\n",
       "    </tr>\n",
       "  </thead>\n",
       "  <tbody>\n",
       "    <tr>\n",
       "      <th>1904</th>\n",
       "      <td>全世界興収4億ドルを記録した映画の続編「セックス・アンド・ザ・シティ2」。6月には、サラ・ジ...</td>\n",
       "      <td>2002年の誕生から、今回で16回目となる「神戸コレクション2010 AUTMN/SUMME...</td>\n",
       "      <td>「体の不調が出やすくなる年齢だけに、同世代の友人に悩みを赤裸々に語ることはあります。だけど、...</td>\n",
       "    </tr>\n",
       "    <tr>\n",
       "      <th>2633</th>\n",
       "      <td>70種類の豊富なフォントや個性豊かな飾りイラストでカスタマイズしよう！Androidのホーム...</td>\n",
       "      <td>ドタキャンの言い訳、どうしよう？楽しみにしていた食事やデートなどの予定を体調不良や急な用事で...</td>\n",
       "      <td>こんにちは、ビデオエディターを目指している小島暢華です。さて今回は天体写真に挑戦してみました...</td>\n",
       "    </tr>\n",
       "    <tr>\n",
       "      <th>3107</th>\n",
       "      <td>ソフトバンクモバイルから発売されたDesire（X06HT)は、OS2.1を搭載し、Andr...</td>\n",
       "      <td>2009年、パナソニック・トヨタ・レーシングのサードドライバーとして、10月に行われた第16...</td>\n",
       "      <td>CM・ドラマ・映画・ティーン誌のモデルなど、あらゆるメディアで類まれなる才能を発揮し、今最も...</td>\n",
       "    </tr>\n",
       "  </tbody>\n",
       "</table>\n",
       "</div>"
      ],
      "text/plain": [
       "                                                   text  \\\n",
       "1904  全世界興収4億ドルを記録した映画の続編「セックス・アンド・ザ・シティ2」。6月には、サラ・ジ...   \n",
       "2633  70種類の豊富なフォントや個性豊かな飾りイラストでカスタマイズしよう！Androidのホーム...   \n",
       "3107  ソフトバンクモバイルから発売されたDesire（X06HT)は、OS2.1を搭載し、Andr...   \n",
       "\n",
       "                                               positive  \\\n",
       "1904  2002年の誕生から、今回で16回目となる「神戸コレクション2010 AUTMN/SUMME...   \n",
       "2633  ドタキャンの言い訳、どうしよう？楽しみにしていた食事やデートなどの予定を体調不良や急な用事で...   \n",
       "3107  2009年、パナソニック・トヨタ・レーシングのサードドライバーとして、10月に行われた第16...   \n",
       "\n",
       "                                               negative  \n",
       "1904  「体の不調が出やすくなる年齢だけに、同世代の友人に悩みを赤裸々に語ることはあります。だけど、...  \n",
       "2633  こんにちは、ビデオエディターを目指している小島暢華です。さて今回は天体写真に挑戦してみました...  \n",
       "3107  CM・ドラマ・映画・ティーン誌のモデルなど、あらゆるメディアで類まれなる才能を発揮し、今最も...  "
      ]
     },
     "execution_count": 21,
     "metadata": {},
     "output_type": "execute_result"
    }
   ],
   "source": [
    "df.head(3)"
   ]
  },
  {
   "cell_type": "code",
   "execution_count": 22,
   "id": "e491041d-bc25-4ac6-81e6-c1737b482b16",
   "metadata": {},
   "outputs": [],
   "source": [
    "# 列名の変更\n",
    "df = df.rename(columns={'text': 'anchor'})"
   ]
  },
  {
   "cell_type": "code",
   "execution_count": 23,
   "id": "2749ffc3-0d7b-440c-89bb-a795fb620fb8",
   "metadata": {},
   "outputs": [
    {
     "data": {
      "text/html": [
       "<div>\n",
       "<style scoped>\n",
       "    .dataframe tbody tr th:only-of-type {\n",
       "        vertical-align: middle;\n",
       "    }\n",
       "\n",
       "    .dataframe tbody tr th {\n",
       "        vertical-align: top;\n",
       "    }\n",
       "\n",
       "    .dataframe thead th {\n",
       "        text-align: right;\n",
       "    }\n",
       "</style>\n",
       "<table border=\"1\" class=\"dataframe\">\n",
       "  <thead>\n",
       "    <tr style=\"text-align: right;\">\n",
       "      <th></th>\n",
       "      <th>anchor</th>\n",
       "      <th>positive</th>\n",
       "      <th>negative</th>\n",
       "    </tr>\n",
       "  </thead>\n",
       "  <tbody>\n",
       "    <tr>\n",
       "      <th>1904</th>\n",
       "      <td>全世界興収4億ドルを記録した映画の続編「セックス・アンド・ザ・シティ2」。6月には、サラ・ジ...</td>\n",
       "      <td>2002年の誕生から、今回で16回目となる「神戸コレクション2010 AUTMN/SUMME...</td>\n",
       "      <td>「体の不調が出やすくなる年齢だけに、同世代の友人に悩みを赤裸々に語ることはあります。だけど、...</td>\n",
       "    </tr>\n",
       "    <tr>\n",
       "      <th>2633</th>\n",
       "      <td>70種類の豊富なフォントや個性豊かな飾りイラストでカスタマイズしよう！Androidのホーム...</td>\n",
       "      <td>ドタキャンの言い訳、どうしよう？楽しみにしていた食事やデートなどの予定を体調不良や急な用事で...</td>\n",
       "      <td>こんにちは、ビデオエディターを目指している小島暢華です。さて今回は天体写真に挑戦してみました...</td>\n",
       "    </tr>\n",
       "    <tr>\n",
       "      <th>3107</th>\n",
       "      <td>ソフトバンクモバイルから発売されたDesire（X06HT)は、OS2.1を搭載し、Andr...</td>\n",
       "      <td>2009年、パナソニック・トヨタ・レーシングのサードドライバーとして、10月に行われた第16...</td>\n",
       "      <td>CM・ドラマ・映画・ティーン誌のモデルなど、あらゆるメディアで類まれなる才能を発揮し、今最も...</td>\n",
       "    </tr>\n",
       "  </tbody>\n",
       "</table>\n",
       "</div>"
      ],
      "text/plain": [
       "                                                 anchor  \\\n",
       "1904  全世界興収4億ドルを記録した映画の続編「セックス・アンド・ザ・シティ2」。6月には、サラ・ジ...   \n",
       "2633  70種類の豊富なフォントや個性豊かな飾りイラストでカスタマイズしよう！Androidのホーム...   \n",
       "3107  ソフトバンクモバイルから発売されたDesire（X06HT)は、OS2.1を搭載し、Andr...   \n",
       "\n",
       "                                               positive  \\\n",
       "1904  2002年の誕生から、今回で16回目となる「神戸コレクション2010 AUTMN/SUMME...   \n",
       "2633  ドタキャンの言い訳、どうしよう？楽しみにしていた食事やデートなどの予定を体調不良や急な用事で...   \n",
       "3107  2009年、パナソニック・トヨタ・レーシングのサードドライバーとして、10月に行われた第16...   \n",
       "\n",
       "                                               negative  \n",
       "1904  「体の不調が出やすくなる年齢だけに、同世代の友人に悩みを赤裸々に語ることはあります。だけど、...  \n",
       "2633  こんにちは、ビデオエディターを目指している小島暢華です。さて今回は天体写真に挑戦してみました...  \n",
       "3107  CM・ドラマ・映画・ティーン誌のモデルなど、あらゆるメディアで類まれなる才能を発揮し、今最も...  "
      ]
     },
     "execution_count": 23,
     "metadata": {},
     "output_type": "execute_result"
    }
   ],
   "source": [
    "df.head(3)"
   ]
  },
  {
   "cell_type": "code",
   "execution_count": 24,
   "id": "aef41a72-0088-4d11-ba97-7342af1f0fd7",
   "metadata": {},
   "outputs": [
    {
     "data": {
      "text/plain": [
       "(500, 3)"
      ]
     },
     "execution_count": 24,
     "metadata": {},
     "output_type": "execute_result"
    }
   ],
   "source": [
    "# 件数の確認\n",
    "df.shape\n",
    "# (1000, 3)"
   ]
  },
  {
   "cell_type": "code",
   "execution_count": 25,
   "id": "b59aca0a-7c04-4288-a89f-8f4d9821d6b6",
   "metadata": {},
   "outputs": [],
   "source": [
    "from sklearn.model_selection import train_test_split\n",
    "train, test = train_test_split(df, train_size=0.8, random_state=4)"
   ]
  },
  {
   "cell_type": "code",
   "execution_count": 26,
   "id": "c25af3b0-86f8-4966-ab6e-e2b0dc674bca",
   "metadata": {},
   "outputs": [
    {
     "name": "stdout",
     "output_type": "stream",
     "text": [
      "400\n",
      "100\n"
     ]
    }
   ],
   "source": [
    "print(len(train))\n",
    "print(len(test))"
   ]
  },
  {
   "cell_type": "code",
   "execution_count": 27,
   "id": "dd0b5dcc-6df2-4e05-9747-142a5e4f150c",
   "metadata": {},
   "outputs": [],
   "source": [
    "# タブ区切りのテキストデータに書き出し\n",
    "train.to_csv('./triplet_train.tsv', sep='\\t', index = False)\n",
    "test.to_csv('./triplet_test.tsv', sep='\\t', index = False)"
   ]
  },
  {
   "cell_type": "code",
   "execution_count": null,
   "id": "321c4e33-ce2a-4f19-9d43-ba596fb0c09b",
   "metadata": {},
   "outputs": [],
   "source": []
  }
 ],
 "metadata": {
  "kernelspec": {
   "display_name": "Python 3 (ipykernel)",
   "language": "python",
   "name": "python3"
  },
  "language_info": {
   "codemirror_mode": {
    "name": "ipython",
    "version": 3
   },
   "file_extension": ".py",
   "mimetype": "text/x-python",
   "name": "python",
   "nbconvert_exporter": "python",
   "pygments_lexer": "ipython3",
   "version": "3.8.10"
  }
 },
 "nbformat": 4,
 "nbformat_minor": 5
}
