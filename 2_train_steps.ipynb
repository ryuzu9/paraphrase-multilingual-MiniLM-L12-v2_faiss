{
 "cells": [
  {
   "cell_type": "markdown",
   "id": "adc256ae-24ec-49ff-87de-4b903f4b61af",
   "metadata": {},
   "source": [
    "## ✫モデルのFineTuning処理"
   ]
  },
  {
   "cell_type": "markdown",
   "id": "01faf90c-a10f-47a6-b2a3-49ba4613f708",
   "metadata": {},
   "source": [
    "### Triplet Loss — Advanced Intro\n",
    "- https://towardsdatascience.com/triplet-loss-advanced-intro-49a07b7d8905\n",
    "- https://qdrant.tech/articles/triplet-loss/"
   ]
  },
  {
   "cell_type": "code",
   "execution_count": 1,
   "id": "c9bfa0a2-cba8-49fc-ad1f-74df70c7083b",
   "metadata": {},
   "outputs": [],
   "source": [
    "pass"
   ]
  },
  {
   "cell_type": "code",
   "execution_count": null,
   "id": "dcabd9c9-30ef-4656-a1e7-b70d6e2f2041",
   "metadata": {},
   "outputs": [],
   "source": []
  }
 ],
 "metadata": {
  "kernelspec": {
   "display_name": "Python 3 (ipykernel)",
   "language": "python",
   "name": "python3"
  },
  "language_info": {
   "codemirror_mode": {
    "name": "ipython",
    "version": 3
   },
   "file_extension": ".py",
   "mimetype": "text/x-python",
   "name": "python",
   "nbconvert_exporter": "python",
   "pygments_lexer": "ipython3",
   "version": "3.8.10"
  }
 },
 "nbformat": 4,
 "nbformat_minor": 5
}
