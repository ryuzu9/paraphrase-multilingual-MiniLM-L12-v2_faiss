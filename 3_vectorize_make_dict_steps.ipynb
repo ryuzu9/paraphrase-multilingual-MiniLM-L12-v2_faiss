{
 "cells": [
  {
   "cell_type": "markdown",
   "id": "af7e261e-f209-424c-98e2-77c94f68ca36",
   "metadata": {},
   "source": [
    "## ✫paraphrase-multilingual-MiniLM-L12-v2を使用して文章のベクトル化"
   ]
  },
  {
   "cell_type": "markdown",
   "id": "2bda5889-e7af-4ce5-bdbf-c42ba2a8d9a3",
   "metadata": {},
   "source": [
    "### 1. 文章の本文をベクトル化するためにparaphrase-multilingual-MiniLM-L12-v2をロード"
   ]
  },
  {
   "cell_type": "code",
   "execution_count": 1,
   "id": "3e209bc0-409a-4a53-9acc-48f69bae0c9b",
   "metadata": {},
   "outputs": [],
   "source": [
    "import sentence_transformers\n",
    "from sentence_transformers import SentenceTransformer"
   ]
  },
  {
   "cell_type": "code",
   "execution_count": 2,
   "id": "dc16debb-1d8b-4b8f-9a99-e281401d5b87",
   "metadata": {},
   "outputs": [],
   "source": [
    "# https://huggingface.co/sentence-transformers/paraphrase-multilingual-MiniLM-L12-v2\n",
    "# This is a sentence-transformers model: It maps sentences & paragraphs to a 384 dimensional dense vector space and can be used for tasks like clustering or semantic search.\n",
    "sbert = SentenceTransformer('paraphrase-multilingual-MiniLM-L12-v2')\n",
    "vector = sbert.encode('100回分のループを渡しているので, 1回のループで1%の進捗があります.')"
   ]
  },
  {
   "cell_type": "code",
   "execution_count": 3,
   "id": "cdabb54e-24bf-42b1-90d1-4df4d1360a0d",
   "metadata": {},
   "outputs": [
    {
     "data": {
      "text/plain": [
       "(384,)"
      ]
     },
     "execution_count": 3,
     "metadata": {},
     "output_type": "execute_result"
    }
   ],
   "source": [
    "vector.shape\n",
    "# (384,)"
   ]
  },
  {
   "cell_type": "markdown",
   "id": "7b2cce83-2fe8-4067-aeae-d1b3b5dfedfd",
   "metadata": {},
   "source": [
    "### 2. 文章の本文をリスト化"
   ]
  },
  {
   "cell_type": "code",
   "execution_count": 4,
   "id": "30ebfc04-d7b4-4a22-bc71-2e7f2ceec37a",
   "metadata": {},
   "outputs": [],
   "source": [
    "import os\n",
    "# カテゴリーのフォルダのみを抽出\n",
    "categories = [name for name in os.listdir(\n",
    "    \"./data/livedoor/text/\") if os.path.isdir(\"./data/livedoor/text/\"+name)]"
   ]
  },
  {
   "cell_type": "code",
   "execution_count": 5,
   "id": "aea9406b-58b9-412f-b537-e56184f70676",
   "metadata": {},
   "outputs": [],
   "source": [
    "def extract_main_txt(file_name):\n",
    "    with open(file_name) as text_file:\n",
    "        # 今回はタイトル行は外したいので、3要素目以降の本文のみ使用\n",
    "        text = text_file.readlines()[3:]\n",
    "\n",
    "        # 3要素目以降にも本文が入っている場合があるので、リストにして、後で結合させる\n",
    "        text = [sentence.strip() for sentence in text]  # 空白文字(スペースやタブ、改行)の削除\n",
    "        text = list(filter(lambda line: line != '', text))\n",
    "        text = ''.join(text)\n",
    "        text = text.translate(str.maketrans(\n",
    "            {'\\n': '', '\\t': '', '\\r': '', '\\u3000': ''}))  # 改行やタブ、全角スペースを消す\n",
    "        return text"
   ]
  },
  {
   "cell_type": "code",
   "execution_count": 6,
   "id": "2ebfe7dd-065f-4b6e-9e0b-68716951d5c5",
   "metadata": {},
   "outputs": [],
   "source": [
    "# リストに前処理した本文と、カテゴリーのラベルを追加していく\n",
    "import glob\n",
    "\n",
    "list_text = []\n",
    "list_label = []\n",
    "\n",
    "for cat in categories:\n",
    "    text_files = glob.glob(os.path.join(\"./data/livedoor/text\", cat, \"*.txt\"))\n",
    "\n",
    "    # 前処理extract_main_txtを実施して本文を取得\n",
    "    body = [extract_main_txt(text_file) for text_file in text_files]\n",
    "\n",
    "    label = [cat] * len(body)  # bodyの数文だけカテゴリー名のラベルのリストを作成\n",
    "\n",
    "    list_text.extend(body)  # appendが要素を追加するのに対して、extendはリストごと追加する\n",
    "    list_label.extend(label)"
   ]
  },
  {
   "cell_type": "markdown",
   "id": "086e6d52-b984-4846-ab02-7d27705e2ec0",
   "metadata": {},
   "source": [
    "### 3. Livedoorテキストの各本文をベクトル化して、以下の3つを作成する\n",
    "- 文章ベクトル → 文章本文の辞書\n",
    "- （文章ID, 文章ベクトル）を配列としたリスト\n",
    "- 文章本文 → 文章ラベルの辞書"
   ]
  },
  {
   "cell_type": "code",
   "execution_count": 7,
   "id": "e1da3f83-9c1a-4706-a4c2-7ac095a6cce0",
   "metadata": {},
   "outputs": [],
   "source": [
    "import numpy as np\n",
    "livedoor_vec_to_text_dict = {}\n",
    "livedoor_vec_list = []\n",
    "livedoor_text_to_label_dict = {}"
   ]
  },
  {
   "cell_type": "code",
   "execution_count": 8,
   "id": "73acfa65-0e2a-410f-889b-54e175fbbd68",
   "metadata": {},
   "outputs": [
    {
     "name": "stderr",
     "output_type": "stream",
     "text": [
      "7376it [01:17, 95.13it/s] \n"
     ]
    }
   ],
   "source": [
    "from tqdm import tqdm \n",
    "\n",
    "for text_item, label_item in tqdm(zip(list_text, list_label)):\n",
    "    vector = sbert.encode(text_item)\n",
    "    n = np.array(vector)\n",
    "    n = tuple(n)\n",
    "    livedoor_vec_to_text_dict[n] = text_item\n",
    "    livedoor_vec_list.append((len(livedoor_vec_list), n))\n",
    "    livedoor_text_to_label_dict[text_item] = label_item"
   ]
  },
  {
   "cell_type": "code",
   "execution_count": 9,
   "id": "c57a0270-f27d-44d8-a077-c4446a802f68",
   "metadata": {},
   "outputs": [
    {
     "name": "stdout",
     "output_type": "stream",
     "text": [
      "7376\n",
      "7348\n",
      "7376\n",
      "7368\n"
     ]
    }
   ],
   "source": [
    "print(len(list_text))\n",
    "print(len(livedoor_vec_to_text_dict))\n",
    "print(len(livedoor_vec_list))\n",
    "print(len(livedoor_text_to_label_dict))\n",
    "# 7376\n",
    "# 7365 → 同じものがあるのか？\n",
    "# 7376\n",
    "# 7368 → 同じものがあるのか？"
   ]
  },
  {
   "cell_type": "code",
   "execution_count": 10,
   "id": "ce5d79dc-e094-43e4-874f-f103e3eb011c",
   "metadata": {},
   "outputs": [
    {
     "data": {
      "text/plain": [
       "'イタリアのプレミアム・カジュアル・ブランド「DIESEL（ディーゼル）」は2月27日、28日の2日間、「0円」でTシャツを販売するゲリラストア「BE STUPID STORE」を原宿に限定オープンする。DIESELは、1991年から、斬新なテーマと強烈なビジュアルでメッセージ性の強い広告キャンペーンを展開している。2010年春夏シーズンのスローガンは「BE STUPID」。DIESELのスピリットであるポジティブな反骨精神が映し出されている言葉だ。「自分らしく生きること。失敗を恐れず、何度でも挑戦すること。そこにチャンスはやってくる」。ブランドのアイデンティティであるチャレンジ精神を伝えるために、DIESELは数々のフレーズとともに、このキャンペーンをさまざまな場面で展開していく。大人はNOと言う。僕らはYESと言う。大人は頭で考える。僕らは心で動く。大人には知恵がある。僕らには度胸がある。大人にはプランがある。僕らにはストーリーがある。僕らにしか分からない素晴らしさがある。BE STUPID.「BE STUPID STORE」では、このチャレンジ精神に賛同する人に、枚数限定のTシャツを0円で提供する。もし当日にTシャツを手に入れることが出来なくても、DIESELの公式サイトで、会員限定の特別待ち受け画像をダウンロードし、通常店舗で提示すれば、Tシャツをゲットすることが可能だ。■関連リンク・DIESEL - 公式サイト■店舗情報BE STUPID STORE東京都渋谷区神宮前4-31-16営業時間：12:00〜19:00※2月27日(土)、28日(日) 2日間限り'"
      ]
     },
     "execution_count": 10,
     "metadata": {},
     "output_type": "execute_result"
    }
   ],
   "source": [
    "# 作成した辞書（文章ベクトル→文章本文）の検証\n",
    "vector = sbert.encode(list_text[10])\n",
    "n = np.array(vector)\n",
    "n = tuple(n)\n",
    "livedoor_vec_to_text_dict[n]"
   ]
  },
  {
   "cell_type": "code",
   "execution_count": 11,
   "id": "93a5874e-1950-405b-a128-789af7bc5da2",
   "metadata": {},
   "outputs": [
    {
     "name": "stdout",
     "output_type": "stream",
     "text": [
      "イタリアのプレミアム・カジュアル・ブランド「DIESEL（ディーゼル）」は2月27日、28日の2日間、「0円」でTシャツを販売するゲリラストア「BE STUPID STORE」を原宿に限定オープンする。DIESELは、1991年から、斬新なテーマと強烈なビジュアルでメッセージ性の強い広告キャンペーンを展開している。2010年春夏シーズンのスローガンは「BE STUPID」。DIESELのスピリットであるポジティブな反骨精神が映し出されている言葉だ。「自分らしく生きること。失敗を恐れず、何度でも挑戦すること。そこにチャンスはやってくる」。ブランドのアイデンティティであるチャレンジ精神を伝えるために、DIESELは数々のフレーズとともに、このキャンペーンをさまざまな場面で展開していく。大人はNOと言う。僕らはYESと言う。大人は頭で考える。僕らは心で動く。大人には知恵がある。僕らには度胸がある。大人にはプランがある。僕らにはストーリーがある。僕らにしか分からない素晴らしさがある。BE STUPID.「BE STUPID STORE」では、このチャレンジ精神に賛同する人に、枚数限定のTシャツを0円で提供する。もし当日にTシャツを手に入れることが出来なくても、DIESELの公式サイトで、会員限定の特別待ち受け画像をダウンロードし、通常店舗で提示すれば、Tシャツをゲットすることが可能だ。■関連リンク・DIESEL - 公式サイト■店舗情報BE STUPID STORE東京都渋谷区神宮前4-31-16営業時間：12:00〜19:00※2月27日(土)、28日(日) 2日間限り\n",
      "livedoor-homme\n"
     ]
    }
   ],
   "source": [
    "# 10番目の文章とラベルを確認\n",
    "print(list_text[10])\n",
    "print(list_label[10])"
   ]
  },
  {
   "cell_type": "code",
   "execution_count": 12,
   "id": "53847599-01a5-4517-9e03-d1a48b8951ad",
   "metadata": {},
   "outputs": [
    {
     "data": {
      "text/plain": [
       "'スペイン時間の19日、バレンシアに所属するアルゼンチン人MFエベル・バネガがとんだアクシデントに見舞われた。練習を終え、ガソリンスタンドに立ち寄ったバネガは、車から降りる際にサイドブレーキをかけ忘れた。よほどあわてたのか、バネガは進行する車を大事な商売道具である足で止めようとしたのだ。当然、車の圧力が止まるわけもなく、バネガは腓骨と脛骨を骨折する重傷。20日にも手術が行なわれる予定で、全治までは6カ月かかるとみられる。うっかりしたミスが、今季絶望の悲劇を招いてしまった。バレンシアの選手には、過去にもこうした「うっかり」ミスで重傷を負ったケースがあった。2002年5月、日韓W杯直前にスペイン代表GKホセサンティアゴ・カニサレスが、オーデコロンの瓶を誤って足に落とし、右足の腱(けん)を断裂。正GKとして臨むはずのW杯を、泣く泣く欠場するハメになった。バネガのケースはカニサレスよりも深刻であり、一歩間違えれば生命の危機もあった。「骨折で済んだ」こともあり、ネット上のファンからは「なぜ足で止めようと」「どこの三流コントだよ」「なんという逸材」「骨折界のファンタジスタやで」「トラップも満足に出来ねえのか」といった軽い反応が多く見られた。'"
      ]
     },
     "execution_count": 12,
     "metadata": {},
     "output_type": "execute_result"
    }
   ],
   "source": [
    "# 作成した辞書（文章ベクトル→文章本文）の検証\n",
    "vector = sbert.encode(list_text[1015])\n",
    "n = np.array(vector)\n",
    "n = tuple(n)\n",
    "livedoor_vec_to_text_dict[n]"
   ]
  },
  {
   "cell_type": "code",
   "execution_count": 13,
   "id": "51b08689-9121-4fff-8354-e998183a1e11",
   "metadata": {},
   "outputs": [
    {
     "name": "stdout",
     "output_type": "stream",
     "text": [
      "スペイン時間の19日、バレンシアに所属するアルゼンチン人MFエベル・バネガがとんだアクシデントに見舞われた。練習を終え、ガソリンスタンドに立ち寄ったバネガは、車から降りる際にサイドブレーキをかけ忘れた。よほどあわてたのか、バネガは進行する車を大事な商売道具である足で止めようとしたのだ。当然、車の圧力が止まるわけもなく、バネガは腓骨と脛骨を骨折する重傷。20日にも手術が行なわれる予定で、全治までは6カ月かかるとみられる。うっかりしたミスが、今季絶望の悲劇を招いてしまった。バレンシアの選手には、過去にもこうした「うっかり」ミスで重傷を負ったケースがあった。2002年5月、日韓W杯直前にスペイン代表GKホセサンティアゴ・カニサレスが、オーデコロンの瓶を誤って足に落とし、右足の腱(けん)を断裂。正GKとして臨むはずのW杯を、泣く泣く欠場するハメになった。バネガのケースはカニサレスよりも深刻であり、一歩間違えれば生命の危機もあった。「骨折で済んだ」こともあり、ネット上のファンからは「なぜ足で止めようと」「どこの三流コントだよ」「なんという逸材」「骨折界のファンタジスタやで」「トラップも満足に出来ねえのか」といった軽い反応が多く見られた。\n",
      "sports-watch\n"
     ]
    }
   ],
   "source": [
    "# 15番目の文章とラベルを確認\n",
    "print(list_text[1015])\n",
    "print(list_label[1015])"
   ]
  },
  {
   "cell_type": "markdown",
   "id": "c2b85668-f524-4a3c-a7d1-b34ba2b75732",
   "metadata": {},
   "source": [
    "### 4. 作成した辞書の永続化"
   ]
  },
  {
   "cell_type": "code",
   "execution_count": 14,
   "id": "7fc038b9-2e8e-4ccf-8b6b-1540416f730a",
   "metadata": {},
   "outputs": [],
   "source": [
    "import pickle\n",
    "with open(\"livedoor_vec_to_text_dict.pkl\",\"wb\") as f:\n",
    "    pickle.dump(livedoor_vec_to_text_dict, f)\n",
    "\n",
    "with open(\"livedoor_text_to_label_dict.pkl\",\"wb\") as f:\n",
    "    pickle.dump(livedoor_text_to_label_dict, f)   "
   ]
  },
  {
   "cell_type": "markdown",
   "id": "04265f48-e300-49d0-ae46-f771be8e1898",
   "metadata": {},
   "source": [
    "### 5. ベクトルのリストの永続化"
   ]
  },
  {
   "cell_type": "code",
   "execution_count": 15,
   "id": "bebb3695-4108-4680-87c8-432ed1274445",
   "metadata": {},
   "outputs": [],
   "source": [
    "import pickle\n",
    "with open(\"livedoor_vec_list.pkl\",\"wb\") as f:\n",
    "    pickle.dump(livedoor_vec_list, f)"
   ]
  },
  {
   "cell_type": "code",
   "execution_count": null,
   "id": "03278761-3519-43a5-9feb-02ee25bcefe4",
   "metadata": {},
   "outputs": [],
   "source": []
  },
  {
   "cell_type": "code",
   "execution_count": null,
   "id": "69cdb916-8d7d-484f-bf56-d800765d4653",
   "metadata": {},
   "outputs": [],
   "source": []
  }
 ],
 "metadata": {
  "kernelspec": {
   "display_name": "Python 3 (ipykernel)",
   "language": "python",
   "name": "python3"
  },
  "language_info": {
   "codemirror_mode": {
    "name": "ipython",
    "version": 3
   },
   "file_extension": ".py",
   "mimetype": "text/x-python",
   "name": "python",
   "nbconvert_exporter": "python",
   "pygments_lexer": "ipython3",
   "version": "3.8.10"
  }
 },
 "nbformat": 4,
 "nbformat_minor": 5
}
